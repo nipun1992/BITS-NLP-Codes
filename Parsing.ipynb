{
 "cells": [
  {
   "cell_type": "markdown",
   "metadata": {},
   "source": [
    "# Parsing"
   ]
  },
  {
   "cell_type": "code",
   "execution_count": 12,
   "metadata": {},
   "outputs": [],
   "source": [
    "#Author: Chetana\n",
    "import nltk\n",
    "from nltk.tokenize import word_tokenize\n",
    "import string"
   ]
  },
  {
   "cell_type": "markdown",
   "metadata": {},
   "source": [
    "# Context Free Grammar"
   ]
  },
  {
   "cell_type": "code",
   "execution_count": 13,
   "metadata": {},
   "outputs": [
    {
     "name": "stdout",
     "output_type": "stream",
     "text": [
      "['NLP', 'is', 'very', 'interesting']\n",
      "[('NLP', 'NNP'), ('is', 'VBZ'), ('very', 'RB'), ('interesting', 'JJ')]\n"
     ]
    }
   ],
   "source": [
    "grammar = nltk.CFG.fromstring(\"\"\"\n",
    "    S -> NP VP\n",
    "    NP -> Det NP | Adj NP | Adj | N | Adv NP\n",
    "    VP -> V NP  \n",
    "    Det -> \"a\" | \"an\" | \"the\" \n",
    "    V -> \"is\"\n",
    "    Adj -> \"interesting\" | \"very\"\n",
    "    N -> \"NLP\" | \"subject\"\n",
    "    Adv -> \"very\"\n",
    "\"\"\")\n",
    "\n",
    "statement = \"NLP is very interesting\"\n",
    "sentence = word_tokenize(statement)\n",
    "print(sentence)\n",
    "print(nltk.pos_tag(sentence))"
   ]
  },
  {
   "cell_type": "code",
   "execution_count": 14,
   "metadata": {},
   "outputs": [
    {
     "name": "stdout",
     "output_type": "stream",
     "text": [
      "(S (NP (N NLP)) (VP (V is) (NP (Adj very) (NP (Adj interesting)))))\n",
      "(S (NP (N NLP)) (VP (V is) (NP (Adv very) (NP (Adj interesting)))))\n"
     ]
    }
   ],
   "source": [
    "# Recursive descent parser is a kind of top-down parser \n",
    "# built from a set of mutually recursive procedures \n",
    "# where each such procedure implements one of the nonterminals of the grammar. \n",
    "rd_parser = nltk.RecursiveDescentParser(grammar)\n",
    "total_trees = 0\n",
    "for tree in rd_parser.parse(sentence):\n",
    "    total_trees = total_trees+1\n",
    "    print(tree)\n",
    "    tree.draw()"
   ]
  },
  {
   "cell_type": "code",
   "execution_count": 4,
   "metadata": {},
   "outputs": [
    {
     "name": "stdout",
     "output_type": "stream",
     "text": [
      "Ambiguious grammar\n"
     ]
    }
   ],
   "source": [
    "if total_trees > 1 :\n",
    "    print(\"Ambiguious grammar\")\n",
    "else:\n",
    "    print(\"Unambiguious grammar\")    "
   ]
  },
  {
   "cell_type": "markdown",
   "metadata": {},
   "source": [
    "# Chart Parser"
   ]
  },
  {
   "cell_type": "code",
   "execution_count": 15,
   "metadata": {},
   "outputs": [
    {
     "name": "stdout",
     "output_type": "stream",
     "text": [
      "[('The', 'DT'), ('girl', 'NN'), ('is', 'VBZ'), ('laughing', 'VBG')]\n"
     ]
    }
   ],
   "source": [
    "# When a chart parser begins parsing a text, it creates a new (empty) chart, spanning the text. \n",
    "# It then incrementally adds new edges to the chart.  \n",
    "# A set of \"chart rules\" specifies the conditions under which new edges should be added to the chart.\n",
    "# Once the chart reaches a stage where none of the chart rules adds any new edges, parsing is complete.\n",
    "grammar1 = nltk.CFG.fromstring(\"\"\"\n",
    "    S -> NP VP \n",
    "    VP -> V NP | Aux VP | V\n",
    "    NP -> Det NP | N | Adj NP | Adj\n",
    "    N -> \"girl\" | \"boy\"\n",
    "    Det -> \"The\"\n",
    "    Aux -> \"is\"\n",
    "    V -> \"laughing\" | \"playing\" \n",
    "    Adj -> \"laughing\" | \"well\"\n",
    "\"\"\")\n",
    "statement = nltk.word_tokenize(\"The girl is laughing\")\n",
    "print(nltk.pos_tag(statement))"
   ]
  },
  {
   "cell_type": "code",
   "execution_count": 16,
   "metadata": {},
   "outputs": [
    {
     "name": "stdout",
     "output_type": "stream",
     "text": [
      "(S (NP (Det The) (NP (N girl))) (VP (Aux is) (VP (V laughing))))\n"
     ]
    }
   ],
   "source": [
    "total_trees = 0\n",
    "rd_parser = nltk.ChartParser(grammar1)\n",
    "for tree in rd_parser.parse(statement):\n",
    "    total_trees = total_trees + 1\n",
    "    print(tree)\n",
    "    tree.draw()"
   ]
  },
  {
   "cell_type": "code",
   "execution_count": 17,
   "metadata": {},
   "outputs": [
    {
     "name": "stdout",
     "output_type": "stream",
     "text": [
      "Unambiguious grammar\n"
     ]
    }
   ],
   "source": [
    "if total_trees > 1 :\n",
    "    print(\"Ambiguious grammar\")\n",
    "else:\n",
    "    print(\"Unambiguious grammar\")"
   ]
  },
  {
   "cell_type": "code",
   "execution_count": 19,
   "metadata": {},
   "outputs": [
    {
     "name": "stdout",
     "output_type": "stream",
     "text": [
      "[('The', 'DT'), ('can', 'MD'), ('can', 'MD'), ('hold', 'VB'), ('a', 'DT'), ('can', 'MD'), ('of', 'IN'), ('water', 'NN')]\n"
     ]
    }
   ],
   "source": [
    "grammar1 = nltk.CFG.fromstring(\"\"\"\n",
    "    S -> NP VP \n",
    "    VP -> V NP | Aux VP | V NP PP | V\n",
    "    PP -> P NP\n",
    "    NP -> Det NP | N | Adj NP | Adj | Det N PP\n",
    "    N -> \"girl\" | \"boy\" | \"Omkar\" | \"can\" | \"hold\" | \"water\"\n",
    "    Det -> \"The\" | \"a\" | \"the\"\n",
    "    Aux -> \"is\" | \"can\"\n",
    "    P -> \"of\" | \"with\"\n",
    "    V -> \"laughing\" | \"playing\" | \"can\" | \"hold\" | \"water\"\n",
    "    Adj -> \"laughing\" | \"well\"\n",
    "\"\"\")\n",
    "statement = nltk.word_tokenize(\"The can can hold a can of water\")\n",
    "print(nltk.pos_tag(statement))"
   ]
  },
  {
   "cell_type": "code",
   "execution_count": 21,
   "metadata": {},
   "outputs": [
    {
     "name": "stdout",
     "output_type": "stream",
     "text": [
      "(S\n",
      "  (NP (Det The) (NP (N can)))\n",
      "  (VP\n",
      "    (Aux can)\n",
      "    (VP\n",
      "      (V hold)\n",
      "      (NP (Det a) (NP (N can)))\n",
      "      (PP (P of) (NP (N water))))))\n",
      "(S\n",
      "  (NP (Det The) (NP (N can)))\n",
      "  (VP\n",
      "    (Aux can)\n",
      "    (VP (V hold) (NP (Det a) (N can) (PP (P of) (NP (N water)))))))\n"
     ]
    }
   ],
   "source": [
    "tree_count = 0\n",
    "chart_parser = nltk.ChartParser(grammar1)\n",
    "for tree in chart_parser.parse(statement):\n",
    "    tree_count = tree_count+1\n",
    "    print(tree)\n",
    "    tree.draw()"
   ]
  },
  {
   "cell_type": "code",
   "execution_count": 22,
   "metadata": {},
   "outputs": [
    {
     "name": "stdout",
     "output_type": "stream",
     "text": [
      "Ambiguous Sentence\n"
     ]
    }
   ],
   "source": [
    "if tree_count > 1 :\n",
    "    print(\"Ambiguous Sentence\")\n",
    "else :\n",
    "    print(\"Unambiguous Sentence\")"
   ]
  },
  {
   "cell_type": "code",
   "execution_count": 23,
   "metadata": {},
   "outputs": [],
   "source": [
    "import nltk\n",
    "sentence = [\n",
    "   (\"a\", \"DT\"),\n",
    "   (\"clever\", \"JJ\"),\n",
    "   (\"fox\",\"NN\"),\n",
    "   (\"was\",\"VBP\"),\n",
    "   (\"jumping\",\"VBP\"),\n",
    "   (\"over\",\"IN\"),\n",
    "   (\"the\",\"DT\"),\n",
    "   (\"wall\",\"NN\")\n",
    "]\n",
    "grammar = \"NP:{<DT>?<JJ>*<NN>}\" \n",
    "Reg_parser = nltk.RegexpParser(grammar)\n",
    "Reg_parser.parse(sentence)\n",
    "Output = Reg_parser.parse(sentence)\n",
    "Output.draw()"
   ]
  },
  {
   "cell_type": "code",
   "execution_count": null,
   "metadata": {},
   "outputs": [],
   "source": []
  }
 ],
 "metadata": {
  "kernelspec": {
   "display_name": "Python 3",
   "language": "python",
   "name": "python3"
  },
  "language_info": {
   "codemirror_mode": {
    "name": "ipython",
    "version": 3
   },
   "file_extension": ".py",
   "mimetype": "text/x-python",
   "name": "python",
   "nbconvert_exporter": "python",
   "pygments_lexer": "ipython3",
   "version": "3.7.3"
  }
 },
 "nbformat": 4,
 "nbformat_minor": 2
}
