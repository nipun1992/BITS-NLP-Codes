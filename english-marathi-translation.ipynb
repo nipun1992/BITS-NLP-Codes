{
 "cells": [
  {
   "cell_type": "markdown",
   "metadata": {
    "id": "1r3aDmeLZ78z"
   },
   "source": [
    "# Importing libraries"
   ]
  },
  {
   "cell_type": "code",
   "execution_count": 1,
   "metadata": {},
   "outputs": [],
   "source": [
    "import pandas as pd\n",
    "from sklearn.model_selection import train_test_split\n",
    "import string\n",
    "from string import digits\n",
    "import re\n",
    "from sklearn.utils import shuffle\n",
    "import pickle as pkl\n",
    "import numpy as np"
   ]
  },
  {
   "cell_type": "code",
   "execution_count": 2,
   "metadata": {},
   "outputs": [],
   "source": [
    "from tensorflow.keras.preprocessing.sequence import pad_sequences\n",
    "from tensorflow.keras.layers import LSTM, Input, Dense,Embedding\n",
    "from tensorflow.keras.models import Model,load_model\n",
    "from tensorflow.keras.utils import plot_model\n",
    "from tensorflow.keras.preprocessing.text import one_hot\n",
    "from tensorflow.keras.preprocessing.text import Tokenizer\n",
    "from tensorflow.keras.models import model_from_json"
   ]
  },
  {
   "cell_type": "markdown",
   "metadata": {
    "id": "3nahOTPaaBQO"
   },
   "source": [
    "# Loading the data"
   ]
  },
  {
   "cell_type": "code",
   "execution_count": 3,
   "metadata": {
    "executionInfo": {
     "elapsed": 11954,
     "status": "ok",
     "timestamp": 1587947330442,
     "user": {
      "displayName": "bablu singh",
      "photoUrl": "",
      "userId": "03001583391770728404"
     },
     "user_tz": -330
    },
    "id": "fNhiQugGusId",
    "outputId": "783d577e-b42b-42e8-c73d-42b234b8fa00"
   },
   "outputs": [
    {
     "data": {
      "text/plain": [
       "5546576"
      ]
     },
     "execution_count": 3,
     "metadata": {},
     "output_type": "execute_result"
    }
   ],
   "source": [
    "with open('mar.txt','r', encoding='utf-8') as f:\n",
    "  data = f.read()\n",
    "\n",
    "len(data)"
   ]
  },
  {
   "cell_type": "markdown",
   "metadata": {
    "id": "_6vFoOxNaJUI"
   },
   "source": [
    "# Cleaning and preprocessing the data"
   ]
  },
  {
   "cell_type": "code",
   "execution_count": 4,
   "metadata": {
    "id": "EGynAoMfu2fv"
   },
   "outputs": [],
   "source": [
    "# we need to clean the data\n",
    "uncleaned_data_list = data.split('\\n')"
   ]
  },
  {
   "cell_type": "code",
   "execution_count": 5,
   "metadata": {
    "executionInfo": {
     "elapsed": 11928,
     "status": "ok",
     "timestamp": 1587947330445,
     "user": {
      "displayName": "bablu singh",
      "photoUrl": "",
      "userId": "03001583391770728404"
     },
     "user_tz": -330
    },
    "id": "ZaN8nVoR2jW2",
    "outputId": "f4b9831b-fed0-42fb-b858-c954afd6fb56"
   },
   "outputs": [
    {
     "data": {
      "text/plain": [
       "41029"
      ]
     },
     "execution_count": 5,
     "metadata": {},
     "output_type": "execute_result"
    }
   ],
   "source": [
    "len(uncleaned_data_list)"
   ]
  },
  {
   "cell_type": "code",
   "execution_count": 6,
   "metadata": {
    "id": "K1v7_pj82oc2"
   },
   "outputs": [],
   "source": [
    "uncleaned_data_list = uncleaned_data_list[:38695]"
   ]
  },
  {
   "cell_type": "code",
   "execution_count": 7,
   "metadata": {
    "executionInfo": {
     "elapsed": 12255,
     "status": "ok",
     "timestamp": 1587947330815,
     "user": {
      "displayName": "bablu singh",
      "photoUrl": "",
      "userId": "03001583391770728404"
     },
     "user_tz": -330
    },
    "id": "1-XAEwG431Zf",
    "outputId": "9aebc3f4-d11a-4e24-ea12-9ad5ea859ff4"
   },
   "outputs": [
    {
     "data": {
      "text/plain": [
       "38695"
      ]
     },
     "execution_count": 7,
     "metadata": {},
     "output_type": "execute_result"
    }
   ],
   "source": [
    "len(uncleaned_data_list)"
   ]
  },
  {
   "cell_type": "code",
   "execution_count": 8,
   "metadata": {
    "id": "isQ1zg_dv-LH"
   },
   "outputs": [],
   "source": [
    "english_word = []\n",
    "marathi_word = []\n",
    "cleaned_data_list = []\n",
    "for word in uncleaned_data_list:\n",
    "  english_word.append(word.split('\\t')[:-1][0])\n",
    "  marathi_word.append(word.split('\\t')[:-1][1])"
   ]
  },
  {
   "cell_type": "code",
   "execution_count": 9,
   "metadata": {
    "executionInfo": {
     "elapsed": 12224,
     "status": "ok",
     "timestamp": 1587947330818,
     "user": {
      "displayName": "bablu singh",
      "photoUrl": "",
      "userId": "03001583391770728404"
     },
     "user_tz": -330
    },
    "id": "uoYU7JY77meB",
    "outputId": "5cba5c9e-11ed-4981-919c-ecc285c9229d"
   },
   "outputs": [
    {
     "data": {
      "text/plain": [
       "(38695, 38695)"
      ]
     },
     "execution_count": 9,
     "metadata": {},
     "output_type": "execute_result"
    }
   ],
   "source": [
    "len(english_word), len(marathi_word)"
   ]
  },
  {
   "cell_type": "markdown",
   "metadata": {
    "id": "pUjyh3V7aY9b"
   },
   "source": [
    "# Creating the dataframe and saving the data into csv"
   ]
  },
  {
   "cell_type": "code",
   "execution_count": 10,
   "metadata": {
    "id": "xMHxLefN5C6p"
   },
   "outputs": [],
   "source": [
    "language_data = pd.DataFrame(columns=['English','Marathi'])\n",
    "language_data['English'] = english_word\n",
    "language_data['Marathi'] = marathi_word"
   ]
  },
  {
   "cell_type": "code",
   "execution_count": 11,
   "metadata": {
    "id": "_-0s1dw_7cUj"
   },
   "outputs": [],
   "source": [
    "# saving to csv\n",
    "language_data.to_csv('language_data.csv', index=False)"
   ]
  },
  {
   "cell_type": "code",
   "execution_count": 12,
   "metadata": {
    "id": "APANdWiI7jQ_"
   },
   "outputs": [],
   "source": [
    "language_data = pd.read_csv('language_data.csv')"
   ]
  },
  {
   "cell_type": "code",
   "execution_count": 13,
   "metadata": {
    "executionInfo": {
     "elapsed": 2857,
     "status": "ok",
     "timestamp": 1587955633621,
     "user": {
      "displayName": "bablu singh",
      "photoUrl": "",
      "userId": "03001583391770728404"
     },
     "user_tz": -330
    },
    "id": "pKsFw0bA5Uhe",
    "outputId": "9e887515-e9ae-4c40-ac36-3b4e5047eb42"
   },
   "outputs": [
    {
     "data": {
      "text/html": [
       "<div>\n",
       "<style scoped>\n",
       "    .dataframe tbody tr th:only-of-type {\n",
       "        vertical-align: middle;\n",
       "    }\n",
       "\n",
       "    .dataframe tbody tr th {\n",
       "        vertical-align: top;\n",
       "    }\n",
       "\n",
       "    .dataframe thead th {\n",
       "        text-align: right;\n",
       "    }\n",
       "</style>\n",
       "<table border=\"1\" class=\"dataframe\">\n",
       "  <thead>\n",
       "    <tr style=\"text-align: right;\">\n",
       "      <th></th>\n",
       "      <th>English</th>\n",
       "      <th>Marathi</th>\n",
       "    </tr>\n",
       "  </thead>\n",
       "  <tbody>\n",
       "    <tr>\n",
       "      <th>0</th>\n",
       "      <td>Go.</td>\n",
       "      <td>जा.</td>\n",
       "    </tr>\n",
       "    <tr>\n",
       "      <th>1</th>\n",
       "      <td>Run!</td>\n",
       "      <td>पळ!</td>\n",
       "    </tr>\n",
       "    <tr>\n",
       "      <th>2</th>\n",
       "      <td>Run!</td>\n",
       "      <td>धाव!</td>\n",
       "    </tr>\n",
       "    <tr>\n",
       "      <th>3</th>\n",
       "      <td>Run!</td>\n",
       "      <td>पळा!</td>\n",
       "    </tr>\n",
       "    <tr>\n",
       "      <th>4</th>\n",
       "      <td>Run!</td>\n",
       "      <td>धावा!</td>\n",
       "    </tr>\n",
       "  </tbody>\n",
       "</table>\n",
       "</div>"
      ],
      "text/plain": [
       "  English Marathi\n",
       "0     Go.     जा.\n",
       "1    Run!     पळ!\n",
       "2    Run!    धाव!\n",
       "3    Run!    पळा!\n",
       "4    Run!   धावा!"
      ]
     },
     "execution_count": 13,
     "metadata": {},
     "output_type": "execute_result"
    }
   ],
   "source": [
    "language_data.head()"
   ]
  },
  {
   "cell_type": "code",
   "execution_count": 14,
   "metadata": {
    "executionInfo": {
     "elapsed": 2254,
     "status": "ok",
     "timestamp": 1587955633622,
     "user": {
      "displayName": "bablu singh",
      "photoUrl": "",
      "userId": "03001583391770728404"
     },
     "user_tz": -330
    },
    "id": "btTBPBR6yvwz",
    "outputId": "b317fbb9-6006-4f4e-ab0a-b1dd6173d246"
   },
   "outputs": [
    {
     "data": {
      "text/html": [
       "<div>\n",
       "<style scoped>\n",
       "    .dataframe tbody tr th:only-of-type {\n",
       "        vertical-align: middle;\n",
       "    }\n",
       "\n",
       "    .dataframe tbody tr th {\n",
       "        vertical-align: top;\n",
       "    }\n",
       "\n",
       "    .dataframe thead th {\n",
       "        text-align: right;\n",
       "    }\n",
       "</style>\n",
       "<table border=\"1\" class=\"dataframe\">\n",
       "  <thead>\n",
       "    <tr style=\"text-align: right;\">\n",
       "      <th></th>\n",
       "      <th>English</th>\n",
       "      <th>Marathi</th>\n",
       "    </tr>\n",
       "  </thead>\n",
       "  <tbody>\n",
       "    <tr>\n",
       "      <th>38690</th>\n",
       "      <td>I was about your age when I came to Boston.</td>\n",
       "      <td>मी बॉस्टनला आलो तेव्हा मी जवळजवळ तुझ्याच वयाचा...</td>\n",
       "    </tr>\n",
       "    <tr>\n",
       "      <th>38691</th>\n",
       "      <td>I was about your age when I came to Boston.</td>\n",
       "      <td>मी बॉस्टनला आले तेव्हा मी जवळजवळ तुझ्याच वयाची...</td>\n",
       "    </tr>\n",
       "    <tr>\n",
       "      <th>38692</th>\n",
       "      <td>I was in Australia in October of last year.</td>\n",
       "      <td>मागच्या वर्षीच्या ऑक्टोबरमध्ये मी ऑस्ट्रेलियात...</td>\n",
       "    </tr>\n",
       "    <tr>\n",
       "      <th>38693</th>\n",
       "      <td>I was in Australia in October of last year.</td>\n",
       "      <td>मागच्या वर्षीच्या ऑक्टोबरमध्ये मी ऑस्ट्रेलियात...</td>\n",
       "    </tr>\n",
       "    <tr>\n",
       "      <th>38694</th>\n",
       "      <td>I was in the right place at the right time.</td>\n",
       "      <td>मी योग्य वेळी योग्य ठिकाणी होतो.</td>\n",
       "    </tr>\n",
       "  </tbody>\n",
       "</table>\n",
       "</div>"
      ],
      "text/plain": [
       "                                           English  \\\n",
       "38690  I was about your age when I came to Boston.   \n",
       "38691  I was about your age when I came to Boston.   \n",
       "38692  I was in Australia in October of last year.   \n",
       "38693  I was in Australia in October of last year.   \n",
       "38694  I was in the right place at the right time.   \n",
       "\n",
       "                                                 Marathi  \n",
       "38690  मी बॉस्टनला आलो तेव्हा मी जवळजवळ तुझ्याच वयाचा...  \n",
       "38691  मी बॉस्टनला आले तेव्हा मी जवळजवळ तुझ्याच वयाची...  \n",
       "38692  मागच्या वर्षीच्या ऑक्टोबरमध्ये मी ऑस्ट्रेलियात...  \n",
       "38693  मागच्या वर्षीच्या ऑक्टोबरमध्ये मी ऑस्ट्रेलियात...  \n",
       "38694                   मी योग्य वेळी योग्य ठिकाणी होतो.  "
      ]
     },
     "execution_count": 14,
     "metadata": {},
     "output_type": "execute_result"
    }
   ],
   "source": [
    "language_data.tail()"
   ]
  },
  {
   "cell_type": "markdown",
   "metadata": {
    "id": "exuFz8nTarzz"
   },
   "source": [
    "## Data cleaning "
   ]
  },
  {
   "cell_type": "code",
   "execution_count": 15,
   "metadata": {
    "id": "6MQDC2gD7V5r"
   },
   "outputs": [],
   "source": [
    "english_text = language_data['English'].values\n",
    "marathi_text = language_data['Marathi'].values"
   ]
  },
  {
   "cell_type": "code",
   "execution_count": 16,
   "metadata": {
    "executionInfo": {
     "elapsed": 2848,
     "status": "ok",
     "timestamp": 1587955635283,
     "user": {
      "displayName": "bablu singh",
      "photoUrl": "",
      "userId": "03001583391770728404"
     },
     "user_tz": -330
    },
    "id": "N_gZlBTV6r0k",
    "outputId": "cca80925-65f8-4f7b-a5cb-2b248618b62c"
   },
   "outputs": [
    {
     "data": {
      "text/plain": [
       "('Go.', 'जा.')"
      ]
     },
     "execution_count": 16,
     "metadata": {},
     "output_type": "execute_result"
    }
   ],
   "source": [
    "english_text[0], marathi_text[0]"
   ]
  },
  {
   "cell_type": "code",
   "execution_count": 17,
   "metadata": {
    "executionInfo": {
     "elapsed": 1989,
     "status": "ok",
     "timestamp": 1587955635285,
     "user": {
      "displayName": "bablu singh",
      "photoUrl": "",
      "userId": "03001583391770728404"
     },
     "user_tz": -330
    },
    "id": "xmZzm1OP70jC",
    "outputId": "b45a018c-4276-48d2-de0a-724a2dfa99a2"
   },
   "outputs": [
    {
     "data": {
      "text/plain": [
       "(38695, 38695)"
      ]
     },
     "execution_count": 17,
     "metadata": {},
     "output_type": "execute_result"
    }
   ],
   "source": [
    "len(english_text), len(marathi_text)"
   ]
  },
  {
   "cell_type": "code",
   "execution_count": 18,
   "metadata": {
    "id": "bfZYTe68717a"
   },
   "outputs": [],
   "source": [
    "english_text_ = [x.lower() for x in english_text]\n",
    "marathi_text_ = [x.lower() for x in marathi_text]"
   ]
  },
  {
   "cell_type": "code",
   "execution_count": 19,
   "metadata": {
    "executionInfo": {
     "elapsed": 2654,
     "status": "ok",
     "timestamp": 1587955638769,
     "user": {
      "displayName": "bablu singh",
      "photoUrl": "",
      "userId": "03001583391770728404"
     },
     "user_tz": -330
    },
    "id": "pzM5Cw4z8yEC",
    "outputId": "1794139c-8223-4af8-a7f1-dd0300b0fdea"
   },
   "outputs": [
    {
     "data": {
      "text/plain": [
       "(list, list)"
      ]
     },
     "execution_count": 19,
     "metadata": {},
     "output_type": "execute_result"
    }
   ],
   "source": [
    "type(english_text_), type(marathi_text_)"
   ]
  },
  {
   "cell_type": "markdown",
   "metadata": {
    "id": "EhAomWqya6ry"
   },
   "source": [
    "## Text Preprocessing"
   ]
  },
  {
   "cell_type": "code",
   "execution_count": 20,
   "metadata": {
    "id": "Ahm-n5IN9MM4"
   },
   "outputs": [],
   "source": [
    "english_text_ = [re.sub(\"'\",'',x) for x in english_text_]\n",
    "marathi_text_ = [re.sub(\"'\",'',x) for x in marathi_text_]"
   ]
  },
  {
   "cell_type": "code",
   "execution_count": 21,
   "metadata": {
    "id": "WHJcMxc69ly7"
   },
   "outputs": [],
   "source": [
    "def remove_punc(text_list):\n",
    "  table = str.maketrans('', '', string.punctuation)\n",
    "  removed_punc_text = []\n",
    "  for sent in text_list:\n",
    "    sentance = [w.translate(table) for w in sent.split(' ')]\n",
    "    removed_punc_text.append(' '.join(sentance))\n",
    "  return removed_punc_text\n",
    "english_text_ = remove_punc(english_text_)\n",
    "marathi_text_ = remove_punc(marathi_text_)"
   ]
  },
  {
   "cell_type": "code",
   "execution_count": 22,
   "metadata": {
    "id": "GCB_msy4GpVt"
   },
   "outputs": [],
   "source": [
    "# removing the digits from english sentances\n",
    "remove_digits = str.maketrans('', '', digits)\n",
    "removed_digits_text = []\n",
    "for sent in english_text_:\n",
    "  sentance = [w.translate(remove_digits) for w in sent.split(' ')]\n",
    "  removed_digits_text.append(' '.join(sentance))\n",
    "english_text_ = removed_digits_text\n",
    "\n",
    "# removing the digits from the marathi sentances\n",
    "marathi_text_ = [re.sub(\"[२३०८१५७९४६]\",\"\",x) for x in marathi_text_]\n",
    "marathi_text_ = [re.sub(\"[\\u200d]\",\"\",x) for x in marathi_text_]\n",
    "\n",
    "# removing the stating and ending whitespaces\n",
    "english_text_ = [x.strip() for x in english_text_]\n",
    "marathi_text_ = [x.strip() for x in marathi_text_]"
   ]
  },
  {
   "cell_type": "code",
   "execution_count": 23,
   "metadata": {
    "id": "Jkuf2FGVJ8qE"
   },
   "outputs": [],
   "source": [
    "# removing the starting and ending whitespaces\n",
    "english_text_ = [x.strip() for x in english_text_]\n",
    "marathi_text_ = [x.strip() for x in marathi_text_]"
   ]
  },
  {
   "cell_type": "code",
   "execution_count": 24,
   "metadata": {
    "id": "GXLUAQtBMBDV"
   },
   "outputs": [],
   "source": [
    "# Putting the start and end words in the marathi sentances\n",
    "marathi_text_ = [\"start \" + x + \" end\" for x in marathi_text_]"
   ]
  },
  {
   "cell_type": "code",
   "execution_count": 25,
   "metadata": {
    "executionInfo": {
     "elapsed": 1600,
     "status": "ok",
     "timestamp": 1587955649759,
     "user": {
      "displayName": "bablu singh",
      "photoUrl": "",
      "userId": "03001583391770728404"
     },
     "user_tz": -330
    },
    "id": "zBDFphN7MhNa",
    "outputId": "d7f97b2c-c38c-4606-bb86-9810c5c68bd8"
   },
   "outputs": [
    {
     "data": {
      "text/plain": [
       "('start जा end', 'go')"
      ]
     },
     "execution_count": 25,
     "metadata": {},
     "output_type": "execute_result"
    }
   ],
   "source": [
    "# manipulated_marathi_text_\n",
    "marathi_text_[0], english_text_[0]"
   ]
  },
  {
   "cell_type": "code",
   "execution_count": 26,
   "metadata": {
    "executionInfo": {
     "elapsed": 941,
     "status": "ok",
     "timestamp": 1587955650539,
     "user": {
      "displayName": "bablu singh",
      "photoUrl": "",
      "userId": "03001583391770728404"
     },
     "user_tz": -330
    },
    "id": "MeMFP2XOIHo_",
    "outputId": "3fe41172-930e-4103-d535-a4308107bc57"
   },
   "outputs": [
    {
     "data": {
      "text/plain": [
       "(38695, 38695)"
      ]
     },
     "execution_count": 26,
     "metadata": {},
     "output_type": "execute_result"
    }
   ],
   "source": [
    "len(marathi_text_),len(english_text)"
   ]
  },
  {
   "cell_type": "markdown",
   "metadata": {
    "id": "2u1xzDWnbAEP"
   },
   "source": [
    "# Data spliting"
   ]
  },
  {
   "cell_type": "code",
   "execution_count": 27,
   "metadata": {
    "id": "KMOn0wFsL0Dx"
   },
   "outputs": [],
   "source": [
    "X = english_text_\n",
    "Y = marathi_text_"
   ]
  },
  {
   "cell_type": "code",
   "execution_count": 28,
   "metadata": {
    "executionInfo": {
     "elapsed": 2689,
     "status": "ok",
     "timestamp": 1587955654319,
     "user": {
      "displayName": "bablu singh",
      "photoUrl": "",
      "userId": "03001583391770728404"
     },
     "user_tz": -330
    },
    "id": "rtn9Lcj8NOQ9",
    "outputId": "0ddffc2f-bd34-4270-c313-3e8ee8d4d442"
   },
   "outputs": [
    {
     "data": {
      "text/plain": [
       "(34825, 34825, 3870, 3870)"
      ]
     },
     "execution_count": 28,
     "metadata": {},
     "output_type": "execute_result"
    }
   ],
   "source": [
    "X_train, X_test, y_train, y_test = train_test_split(X,Y,test_size = 0.1)\n",
    "len(X_train),len(y_train), len(X_test), len(y_test)"
   ]
  },
  {
   "cell_type": "code",
   "execution_count": 29,
   "metadata": {
    "executionInfo": {
     "elapsed": 3135,
     "status": "ok",
     "timestamp": 1587951153995,
     "user": {
      "displayName": "bablu singh",
      "photoUrl": "",
      "userId": "03001583391770728404"
     },
     "user_tz": -330
    },
    "id": "eOVqDO1h6bjA",
    "outputId": "4b43c9f5-2e88-461e-af5b-9759e31ec24f"
   },
   "outputs": [
    {
     "data": {
      "text/plain": [
       "('go', 'start जा end')"
      ]
     },
     "execution_count": 29,
     "metadata": {},
     "output_type": "execute_result"
    }
   ],
   "source": [
    "X[0], Y[0]"
   ]
  },
  {
   "cell_type": "code",
   "execution_count": 30,
   "metadata": {
    "executionInfo": {
     "elapsed": 3113,
     "status": "ok",
     "timestamp": 1587951153997,
     "user": {
      "displayName": "bablu singh",
      "photoUrl": "",
      "userId": "03001583391770728404"
     },
     "user_tz": -330
    },
    "id": "0M5rQy8E8Per",
    "outputId": "706c3a64-8c2f-4f96-8b56-47492e3f78d4"
   },
   "outputs": [
    {
     "data": {
      "text/plain": [
       "('i am the first musician in my family',\n",
       " 'start मी माझ्या कुटुंबातली पहिली संगीतकार आहे end')"
      ]
     },
     "execution_count": 30,
     "metadata": {},
     "output_type": "execute_result"
    }
   ],
   "source": [
    "X_train[0], y_train[0]"
   ]
  },
  {
   "cell_type": "markdown",
   "metadata": {
    "id": "AXR7eYWbbNEy"
   },
   "source": [
    "## Data preparing for encoder and decoder"
   ]
  },
  {
   "cell_type": "code",
   "execution_count": 31,
   "metadata": {
    "id": "Djnk8zztnDIK"
   },
   "outputs": [],
   "source": [
    "# preparing data for the word embedding\n",
    "def Max_length(data):\n",
    "  max_length_ = max([len(x.split(' ')) for x in data])\n",
    "  return max_length_\n",
    "\n",
    "#Training data\n",
    "max_length_english = Max_length(X_train)\n",
    "max_lenght_marathi = Max_length(y_train)\n",
    "\n",
    "#Test data\n",
    "max_length_english_test = Max_length(X_test)\n",
    "max_lenght_marathi_test = Max_length(y_test)"
   ]
  },
  {
   "cell_type": "code",
   "execution_count": 32,
   "metadata": {
    "executionInfo": {
     "elapsed": 3086,
     "status": "ok",
     "timestamp": 1587951154011,
     "user": {
      "displayName": "bablu singh",
      "photoUrl": "",
      "userId": "03001583391770728404"
     },
     "user_tz": -330
    },
    "id": "ROno0D42S5Eg",
    "outputId": "5c906c2c-02b2-44e0-ba24-0f88782f2a39"
   },
   "outputs": [
    {
     "data": {
      "text/plain": [
       "(14, 11)"
      ]
     },
     "execution_count": 32,
     "metadata": {},
     "output_type": "execute_result"
    }
   ],
   "source": [
    "max_lenght_marathi, max_length_english"
   ]
  },
  {
   "cell_type": "code",
   "execution_count": 33,
   "metadata": {
    "id": "ZopVpijTusFF"
   },
   "outputs": [],
   "source": [
    "\n",
    "def tokenizer_(text_data):\n",
    "  tokenizer = Tokenizer()\n",
    "  tokenizer.fit_on_texts(text_data)\n",
    "  return tokenizer\n",
    "\n",
    "tokenizer_input = tokenizer_(X_train)\n",
    "vocab_size_input = len(tokenizer_input.word_index) + 1\n",
    "tokenizer_target = tokenizer_(y_train)\n",
    "vocab_size_target = len(tokenizer_target.word_index) + 1"
   ]
  },
  {
   "cell_type": "code",
   "execution_count": 34,
   "metadata": {
    "id": "-A-4zuYHJ492"
   },
   "outputs": [],
   "source": [
    "with open('tokenizer_input.pkl','wb') as f:\n",
    "  pkl.dump(tokenizer_input,f)\n",
    "\n",
    "with open('tokenizer_target.pkl','wb') as f:\n",
    "  pkl.dump(tokenizer_target,f)\n",
    "pkl.dump(tokenizer_input, open('tokenizer_input.pkl', 'wb'))\n",
    "pkl.dump(tokenizer_target, open('tokenizer_target.pkl', 'wb'))"
   ]
  },
  {
   "cell_type": "code",
   "execution_count": 35,
   "metadata": {
    "executionInfo": {
     "elapsed": 4310,
     "status": "ok",
     "timestamp": 1587951155289,
     "user": {
      "displayName": "bablu singh",
      "photoUrl": "",
      "userId": "03001583391770728404"
     },
     "user_tz": -330
    },
    "id": "ozVJY1_7xcpS",
    "outputId": "a0c78f00-3269-41d6-a12d-9b1d83a2117a"
   },
   "outputs": [
    {
     "data": {
      "text/plain": [
       "(4847, 11455)"
      ]
     },
     "execution_count": 35,
     "metadata": {},
     "output_type": "execute_result"
    }
   ],
   "source": [
    "vocab_size_input,vocab_size_target"
   ]
  },
  {
   "cell_type": "code",
   "execution_count": 37,
   "metadata": {
    "id": "ujwuh9kq2tnE"
   },
   "outputs": [],
   "source": [
    "def generator_batch(X= X_train,Y=y_train, batch_size=128):\n",
    "  while True:\n",
    "    for j in range(0, len(X), batch_size):\n",
    "      encoder_data_input = np.zeros((batch_size,max_length_english),dtype='float32') #metrix of batch_size*max_length_english\n",
    "      decoder_data_input = np.zeros((batch_size,max_lenght_marathi),dtype='float32') #metrix of batch_size*max_length_marathi\n",
    "      decoder_target_input = np.zeros((batch_size,max_lenght_marathi,vocab_size_target),dtype='float32') # 3d array one hot encoder decoder target data\n",
    "      for i, (input_text,target_text) in enumerate(zip(X[j:j+batch_size],Y[j:j+batch_size])):\n",
    "        for t, word in enumerate(input_text.split()):\n",
    "          encoder_data_input[i,t] = tokenizer_input.word_index[word] # Here we are storing the encoder \n",
    "                                                                     #seq in row here padding is done automaticaly as \n",
    "                                                                     #we have defined col as max_lenght\n",
    "        for t, word in enumerate(target_text.split()):\n",
    "          # if word == 'START_':\n",
    "          #   word = 'start'\n",
    "          # elif word == 'END_':\n",
    "          #   word = 'end'\n",
    "          decoder_data_input[i,t] = tokenizer_target.word_index[word] # same for the decoder sequence\n",
    "          if t>0:\n",
    "            decoder_target_input[i,t-1,tokenizer_target.word_index[word]] = 1 #target is one timestep ahead of decoder input because it does not have 'start tag'\n",
    "      # print(encoder_data_input.shape())\n",
    "      yield ([encoder_data_input,decoder_data_input],decoder_target_input)\n"
   ]
  },
  {
   "cell_type": "markdown",
   "metadata": {
    "id": "d2ETtDfbAfeW"
   },
   "source": [
    "# Model"
   ]
  },
  {
   "cell_type": "code",
   "execution_count": 38,
   "metadata": {
    "id": "b8VzF3MKAeRM"
   },
   "outputs": [],
   "source": [
    "latent_dim = 50\n",
    "# Define an input sequence and process it.\n",
    "encoder_inputs = Input(shape=(None,),name=\"encoder_inputs\")\n",
    "emb_layer_encoder = Embedding(vocab_size_input,latent_dim, mask_zero=True)(encoder_inputs)\n",
    "encoder = LSTM(latent_dim, return_state=True)\n",
    "encoder_outputs, state_h, state_c = encoder(emb_layer_encoder)\n",
    "# We discard `encoder_outputs` and only keep the states.\n",
    "encoder_states = [state_h, state_c]\n",
    "\n",
    "# Set up the decoder, using `encoder_states` as initial state.\n",
    "decoder_inputs = Input(shape=(None,),name=\"decoder_inputs\")\n",
    "# We set up our decoder to return full output sequences,\n",
    "# and to return internal states as well. We don't use the\n",
    "# return states in the training model, but we will use them in inference.\n",
    "emb_layer_decoder = Embedding(vocab_size_target,latent_dim, mask_zero=True)(decoder_inputs)\n",
    "decoder_lstm = LSTM(latent_dim, return_sequences=True, return_state=True)\n",
    "decoder_outputs, _, _ = decoder_lstm(emb_layer_decoder, initial_state=encoder_states)\n",
    "decoder_dense = Dense(vocab_size_target, activation='softmax')\n",
    "decoder_outputs = decoder_dense(decoder_outputs)\n",
    "\n",
    "# Define the model that will turn\n",
    "# `encoder_input_data` & `decoder_input_data` into `decoder_target_data`\n",
    "model = Model([encoder_inputs, decoder_inputs], decoder_outputs)\n"
   ]
  },
  {
   "cell_type": "code",
   "execution_count": 39,
   "metadata": {
    "id": "P3x4d-DhIJB8"
   },
   "outputs": [],
   "source": [
    "model.compile(loss='categorical_crossentropy', optimizer='rmsprop', metrics=['accuracy'])"
   ]
  },
  {
   "cell_type": "code",
   "execution_count": 40,
   "metadata": {
    "executionInfo": {
     "elapsed": 12928,
     "status": "ok",
     "timestamp": 1587951164008,
     "user": {
      "displayName": "bablu singh",
      "photoUrl": "",
      "userId": "03001583391770728404"
     },
     "user_tz": -330
    },
    "id": "wpvNNuDPI1iF",
    "outputId": "2f05e87c-56e4-4af4-fd3e-2354d46f0e79"
   },
   "outputs": [
    {
     "data": {
      "image/png": "[encoded data removed]",
      "text/plain": [
       "<IPython.core.display.Image object>"
      ]
     },
     "execution_count": 40,
     "metadata": {},
     "output_type": "execute_result"
    }
   ],
   "source": [
    "plot_model(model, to_file='train_model.png', show_shapes=True)"
   ]
  },
  {
   "cell_type": "code",
   "execution_count": 41,
   "metadata": {
    "id": "6FAAhjyye03j"
   },
   "outputs": [],
   "source": [
    "train_samples = len(X_train)\n",
    "val_samples = len(X_test)\n",
    "batch_size = 128\n",
    "epochs = 5"
   ]
  },
  {
   "cell_type": "code",
   "execution_count": 2,
   "metadata": {
    "executionInfo": {
     "elapsed": 776599,
     "status": "ok",
     "timestamp": 1587953750533,
     "user": {
      "displayName": "bablu singh",
      "photoUrl": "",
      "userId": "03001583391770728404"
     },
     "user_tz": -330
    },
    "id": "vRm3DCeceq74",
    "outputId": "a38d3107-27b7-4b31-9ef0-63b0a2a05c86"
   },
   "outputs": [
    {
     "ename": "NameError",
     "evalue": "name 'model' is not defined",
     "output_type": "error",
     "traceback": [
      "\u001b[1;31m---------------------------------------------------------------------------\u001b[0m",
      "\u001b[1;31mNameError\u001b[0m                                 Traceback (most recent call last)",
      "\u001b[1;32m<ipython-input-2-4fc6e965a49b>\u001b[0m in \u001b[0;36m<module>\u001b[1;34m\u001b[0m\n\u001b[1;32m----> 1\u001b[1;33m model.fit_generator(generator = generator_batch(X_train, y_train, batch_size = batch_size),\n\u001b[0m\u001b[0;32m      2\u001b[0m                     \u001b[0msteps_per_epoch\u001b[0m \u001b[1;33m=\u001b[0m \u001b[0mtrain_samples\u001b[0m\u001b[1;33m//\u001b[0m\u001b[0mbatch_size\u001b[0m\u001b[1;33m,\u001b[0m\u001b[1;33m\u001b[0m\u001b[1;33m\u001b[0m\u001b[0m\n\u001b[0;32m      3\u001b[0m                     epochs=epochs)\n",
      "\u001b[1;31mNameError\u001b[0m: name 'model' is not defined"
     ]
    }
   ],
   "source": [
    "model.fit_generator(generator = generator_batch(X_train, y_train, batch_size = batch_size),\n",
    "                    steps_per_epoch = train_samples//batch_size,\n",
    "                    epochs=epochs)"
   ]
  },
  {
   "cell_type": "markdown",
   "metadata": {
    "id": "8K0ek58scT0O"
   },
   "source": [
    "## Saving the model into Json"
   ]
  },
  {
   "cell_type": "code",
   "execution_count": 3,
   "metadata": {
    "id": "XGEbCFAacJin"
   },
   "outputs": [
    {
     "ename": "NameError",
     "evalue": "name 'model' is not defined",
     "output_type": "error",
     "traceback": [
      "\u001b[1;31m---------------------------------------------------------------------------\u001b[0m",
      "\u001b[1;31mNameError\u001b[0m                                 Traceback (most recent call last)",
      "\u001b[1;32m<ipython-input-3-7793fe6d2564>\u001b[0m in \u001b[0;36m<module>\u001b[1;34m\u001b[0m\n\u001b[1;32m----> 1\u001b[1;33m \u001b[0mmodel_json\u001b[0m \u001b[1;33m=\u001b[0m \u001b[0mmodel\u001b[0m\u001b[1;33m.\u001b[0m\u001b[0mto_json\u001b[0m\u001b[1;33m(\u001b[0m\u001b[1;33m)\u001b[0m\u001b[1;33m\u001b[0m\u001b[1;33m\u001b[0m\u001b[0m\n\u001b[0m\u001b[0;32m      2\u001b[0m \u001b[1;32mwith\u001b[0m \u001b[0mopen\u001b[0m\u001b[1;33m(\u001b[0m\u001b[1;34m\"model_2.json\"\u001b[0m\u001b[1;33m,\u001b[0m \u001b[1;34m\"w\"\u001b[0m\u001b[1;33m)\u001b[0m \u001b[1;32mas\u001b[0m \u001b[0mjson_file\u001b[0m\u001b[1;33m:\u001b[0m\u001b[1;33m\u001b[0m\u001b[1;33m\u001b[0m\u001b[0m\n\u001b[0;32m      3\u001b[0m     \u001b[0mjson_file\u001b[0m\u001b[1;33m.\u001b[0m\u001b[0mwrite\u001b[0m\u001b[1;33m(\u001b[0m\u001b[0mmodel_json\u001b[0m\u001b[1;33m)\u001b[0m\u001b[1;33m\u001b[0m\u001b[1;33m\u001b[0m\u001b[0m\n\u001b[0;32m      4\u001b[0m \u001b[1;31m# serialize weights to HDF5\u001b[0m\u001b[1;33m\u001b[0m\u001b[1;33m\u001b[0m\u001b[1;33m\u001b[0m\u001b[0m\n\u001b[0;32m      5\u001b[0m \u001b[0mmodel\u001b[0m\u001b[1;33m.\u001b[0m\u001b[0msave_weights\u001b[0m\u001b[1;33m(\u001b[0m\u001b[1;34m\"model_weight_5.h5\"\u001b[0m\u001b[1;33m)\u001b[0m\u001b[1;33m\u001b[0m\u001b[1;33m\u001b[0m\u001b[0m\n",
      "\u001b[1;31mNameError\u001b[0m: name 'model' is not defined"
     ]
    }
   ],
   "source": [
    "model_json = model.to_json()\n",
    "with open(\"model_2.json\", \"w\") as json_file:\n",
    "    json_file.write(model_json)\n",
    "# serialize weights to HDF5\n",
    "model.save_weights(\"model_weight_5.h5\")\n",
    "print(\"Saved model to disk\")"
   ]
  },
  {
   "cell_type": "markdown",
   "metadata": {
    "id": "HpZVI5fscZlI"
   },
   "source": [
    "## Loading the model and weight from Json"
   ]
  },
  {
   "cell_type": "code",
   "execution_count": 71,
   "metadata": {
    "id": "33D-5jOOWACX"
   },
   "outputs": [],
   "source": [
    "# loading the model architecture and asigning the weights\n",
    "json_file = open('model_2.json', 'r')\n",
    "loaded_model_json = json_file.read()\n",
    "json_file.close()\n",
    "model_loaded = model_from_json(loaded_model_json)\n",
    "# load weights into new model\n",
    "model_loaded.load_weights(\"model_weight_5.h5\")"
   ]
  },
  {
   "cell_type": "markdown",
   "metadata": {
    "id": "KTGbqN5vlf5Y"
   },
   "source": [
    "# Inference"
   ]
  },
  {
   "cell_type": "code",
   "execution_count": 72,
   "metadata": {
    "id": "BR9H5oj4-CFg"
   },
   "outputs": [],
   "source": [
    "latent_dim = 50\n",
    "#inference encoder\n",
    "encoder_inputs_inf = model_loaded.input[0] #Trained encoder input layer\n",
    "encoder_outputs_inf, inf_state_h, inf_state_c = model_loaded.layers[4].output # retoring the encoder lstm output and states\n",
    "encoder_inf_states = [inf_state_h,inf_state_c]\n",
    "encoder_model = Model(encoder_inputs_inf,encoder_inf_states)"
   ]
  },
  {
   "cell_type": "code",
   "execution_count": 73,
   "metadata": {
    "id": "TjjeeATugI9c"
   },
   "outputs": [],
   "source": [
    "#inference decoder\n",
    "# The following tensor will store the state of the previous timestep in the \"starting the encoder final time step\"\n",
    "decoder_state_h_input = Input(shape=(latent_dim,)) #becase during training we have set the lstm unit to be of 50\n",
    "decoder_state_c_input = Input(shape=(latent_dim,))\n",
    "decoder_state_input = [decoder_state_h_input,decoder_state_c_input]\n",
    "\n",
    "# # inference decoder input\n",
    "decoder_input_inf = model_loaded.input[1] #Trained decoder input layer\n",
    "# decoder_input_inf._name='decoder_input'\n",
    "decoder_emb_inf = model_loaded.layers[3](decoder_input_inf)\n",
    "decoder_lstm_inf = model_loaded.layers[5]\n",
    "decoder_output_inf, decoder_state_h_inf, decoder_state_c_inf = decoder_lstm_inf(decoder_emb_inf, initial_state =decoder_state_input)\n",
    "decoder_state_inf = [decoder_state_h_inf,decoder_state_c_inf]\n",
    "#inference dense layer\n",
    "dense_inf = model_loaded.layers[6]\n",
    "decoder_output_final = dense_inf(decoder_output_inf)# A dense softmax layer to generate prob dist. over the target vocabulary\n",
    "\n",
    "decoder_model = Model([decoder_input_inf]+decoder_state_input,[decoder_output_final]+decoder_state_inf)\n",
    "\n"
   ]
  },
  {
   "cell_type": "markdown",
   "metadata": {
    "id": "fkjeICV2cjXD"
   },
   "source": [
    "## loading the saved tokenizer for the prediction"
   ]
  },
  {
   "cell_type": "code",
   "execution_count": 74,
   "metadata": {
    "id": "Yvm5xSHaIl1l"
   },
   "outputs": [],
   "source": [
    "with open('tokenizer_input.pkl','rb') as f:\n",
    "  tokenizer_input = pkl.load(f)\n",
    "with open('tokenizer_target.pkl','rb') as f:\n",
    "  tokenizer_target = pkl.load(f)\n",
    "# Creating the reverse mapping to get the word from the index in the sequence\n",
    "reverse_word_map_input = dict(map(reversed, tokenizer_input.word_index.items()))\n",
    "reverse_word_map_target = dict(map(reversed, tokenizer_target.word_index.items()))"
   ]
  },
  {
   "cell_type": "markdown",
   "metadata": {
    "id": "-G00SACUc0tE"
   },
   "source": [
    "## Code for generating the translated sentance"
   ]
  },
  {
   "cell_type": "code",
   "execution_count": 75,
   "metadata": {
    "id": "U3gMi0toQGWn"
   },
   "outputs": [],
   "source": [
    "# Code to predct the input sentences translation\n",
    "def decode_seq(input_seq):\n",
    "  # print(\"input_seq=>\",input_seq)\n",
    "  state_values_encoder = encoder_model.predict(input_seq)\n",
    "  # intialize the target seq with start tag\n",
    "  target_seq = np.zeros((1,1))\n",
    "  target_seq[0, 0] = tokenizer_target.word_index['start']\n",
    "  # print(\"target_seq:=>\",target_seq)\n",
    "  stop_condition = False\n",
    "  decoder_sentance = ''\n",
    "  # print(\"Beforee the while loop\")\n",
    "  while not stop_condition:\n",
    "    sample_word , decoder_h,decoder_c= decoder_model.predict([target_seq] + state_values_encoder)\n",
    "    # print(\"sample_word: =>\",sample_word)\n",
    "    sample_word_index = np.argmax(sample_word[0,-1,:])\n",
    "    # print(\"sample_word_index: \",sample_word_index)\n",
    "    decoder_word = reverse_word_map_target[sample_word_index]\n",
    "    decoder_sentance += ' '+ decoder_word\n",
    "    # print(\"decoded word:=>\",decoder_word)\n",
    "    # print(len(decoder_sentance))\n",
    "    # print(\"len(decoder_sentance) > 70: \",len(decoder_sentance) > 70)\n",
    "    # print('decoder_word == \"end\"',decoder_word == 'end')\n",
    "    # print(decoder_word == 'end' or len(decoder_sentance) > 70)\n",
    "    # stop condition for the while loop\n",
    "    if (decoder_word == 'end' or \n",
    "        len(decoder_sentance) > 70):\n",
    "        stop_condition = True\n",
    "        # print(\"from if condition\")\n",
    "    # target_seq = np.zeros((1,1))\n",
    "    target_seq[0, 0] = sample_word_index\n",
    "    # print(target_seq)\n",
    "    state_values_encoder = [decoder_h,decoder_c]\n",
    "  return decoder_sentance\n"
   ]
  },
  {
   "cell_type": "markdown",
   "metadata": {
    "id": "gN4tgQl-dHKy"
   },
   "source": [
    "## some sentance translation from english sentance"
   ]
  },
  {
   "cell_type": "code",
   "execution_count": 76,
   "metadata": {
    "executionInfo": {
     "elapsed": 3327,
     "status": "ok",
     "timestamp": 1587955667198,
     "user": {
      "displayName": "bablu singh",
      "photoUrl": "",
      "userId": "03001583391770728404"
     },
     "user_tz": -330
    },
    "id": "ihME9UbyWQmS",
    "outputId": "8fe31c13-a86c-46c4-d6f9-685443cd6a67"
   },
   "outputs": [
    {
     "name": "stdout",
     "output_type": "stream",
     "text": [
      "Test sentance:  1\n",
      "sentance:  why cant you get a job\n",
      "origianl translate: तुला नोकरी का नाही मिळू शकत\n",
      "predicted Translate:  ते मेरीला का नाही काम ऑस्ट्रेलियामध्ये\n",
      "====================================================================================================\n",
      "Test sentance:  2\n",
      "sentance:  do you have a bike\n",
      "origianl translate: तुमच्याकडे बाईक आहे का\n",
      "predicted Translate:  ते नाहीये हा\n",
      "====================================================================================================\n",
      "Test sentance:  3\n",
      "sentance:  this bird cant fly\n",
      "origianl translate: हा पक्षी उडू शकत नाही\n",
      "predicted Translate:  त्या जोक नाव\n",
      "====================================================================================================\n",
      "Test sentance:  4\n",
      "sentance:  who doesnt like christmas\n",
      "origianl translate: नाताळ कोणाला आवडत नाही\n",
      "predicted Translate:  नका सफरचंद पुस्तकं होतं\n",
      "====================================================================================================\n",
      "Test sentance:  5\n",
      "sentance:  tom was kicked off the bus\n",
      "origianl translate: टॉमला बसमधून बाहेर काढून टाकण्यात आलं\n",
      "predicted Translate:  टॉम आहात गिटार घेऊन दुरुस्त होता\n",
      "====================================================================================================\n",
      "Test sentance:  6\n",
      "sentance:  then what did you do\n",
      "origianl translate: मग काय केलंस तू\n",
      "predicted Translate:  तुला नाहीये माझं माहीत आहे\n",
      "====================================================================================================\n",
      "Test sentance:  7\n",
      "sentance:  it is wrong to steal\n",
      "origianl translate: चोरी करणं चुकीचं असतं\n",
      "predicted Translate:  म्हणतात बोलता\n",
      "====================================================================================================\n",
      "Test sentance:  8\n",
      "sentance:  how many sisters do you have\n",
      "origianl translate: तुमच्याकडे किती बहिणी आहेत\n",
      "predicted Translate:  तू मी राहतो एकदा आहे\n",
      "====================================================================================================\n",
      "Test sentance:  9\n",
      "sentance:  tom is playing bass guitar\n",
      "origianl translate: टॉम बेस गिटार वाजवतोय\n",
      "predicted Translate:  टॉम होते आहे का\n",
      "====================================================================================================\n",
      "Test sentance:  10\n",
      "sentance:  tom passed away three days ago\n",
      "origianl translate: टॉम तीन दिवसांपूर्वी वारला\n",
      "predicted Translate:  टॉम देऊ दाखवा चित्रपट\n",
      "====================================================================================================\n",
      "Test sentance:  11\n",
      "sentance:  we cant stop here\n",
      "origianl translate: आपण इथे थांबू शकत नाही\n",
      "predicted Translate:  आपण असू नाही शकत नाही\n",
      "====================================================================================================\n",
      "Test sentance:  12\n",
      "sentance:  i have ten times more books than you do\n",
      "origianl translate: माझ्याकडे तुमच्यापेक्षा दहापट जास्त पुस्तकं आहेत\n",
      "predicted Translate:  ते तुला करणार अंडी देईन दिलं\n",
      "====================================================================================================\n",
      "Test sentance:  13\n",
      "sentance:  tom said that he writes his own speeches\n",
      "origianl translate: टॉम म्हणाला की तो स्वतःचे भाषण स्वतः लिहितो\n",
      "predicted Translate:  टॉम हे असेल घालून त्यासाठी\n",
      "====================================================================================================\n",
      "Test sentance:  14\n",
      "sentance:  the phone started ringing\n",
      "origianl translate: फोन वाजू लागला\n",
      "predicted Translate:  आम्ही एक कोणती ओळखतो घेत\n",
      "====================================================================================================\n",
      "Test sentance:  15\n",
      "sentance:  itll be difficult for us to do that\n",
      "origianl translate: आपल्याला तसं करणं कठीण पडेल\n",
      "predicted Translate:  तसं माझं विकत पुष्कळ ह्या का\n",
      "====================================================================================================\n",
      "Test sentance:  16\n",
      "sentance:  this passport is valid for five years\n",
      "origianl translate: हे पारपत्र पाच वर्षांसाठी वैध आहे\n",
      "predicted Translate:  तो ही थोडा आहे\n",
      "====================================================================================================\n",
      "Test sentance:  17\n",
      "sentance:  my favorite team lost yesterday\n",
      "origianl translate: काल माझी आवडती टीम हरली\n",
      "predicted Translate:  की केलं शकतो फक्त\n",
      "====================================================================================================\n",
      "Test sentance:  18\n",
      "sentance:  tom slept outside\n",
      "origianl translate: टॉम बाहेरच झोपला\n",
      "predicted Translate:  टॉमला इथे तिने प्रसिद्ध बघितलं\n",
      "====================================================================================================\n",
      "Test sentance:  19\n",
      "sentance:  my dream has come true\n",
      "origianl translate: माझं स्वप्न खरं झालं आहे\n",
      "predicted Translate:  की प्रत्येक नाही हे त्याची\n",
      "====================================================================================================\n",
      "Test sentance:  20\n",
      "sentance:  he delivered a speech\n",
      "origianl translate: त्याने भाषण केलं\n",
      "predicted Translate:  हे तुम्हाला एक पुस्तक\n",
      "====================================================================================================\n",
      "Test sentance:  21\n",
      "sentance:  i learned about greek culture\n",
      "origianl translate: मी ग्रीक संस्कृतीविषयी शिकले\n",
      "predicted Translate:  मी चालत पण टॉमचे का\n",
      "====================================================================================================\n",
      "Test sentance:  22\n",
      "sentance:  there is one problem\n",
      "origianl translate: एक समस्या आहे\n",
      "predicted Translate:  तिने घेतला आहे\n",
      "====================================================================================================\n",
      "Test sentance:  23\n",
      "sentance:  give it to her\n",
      "origianl translate: तिला द्या\n",
      "predicted Translate:  तू मला मदत मासे\n",
      "====================================================================================================\n",
      "Test sentance:  24\n",
      "sentance:  i got hurt today\n",
      "origianl translate: आज मला लागलं\n",
      "predicted Translate:  मला बंद तू उडी नाही\n",
      "====================================================================================================\n",
      "Test sentance:  25\n",
      "sentance:  did you really say that\n",
      "origianl translate: तुम्ही खरच तसं म्हणालात का\n",
      "predicted Translate:  तुला तू हवं त्याला तू का\n",
      "====================================================================================================\n",
      "Test sentance:  26\n",
      "sentance:  she is a twin\n",
      "origianl translate: ती जुळी आहे\n",
      "predicted Translate:  ती एक प्रेम आहे\n",
      "====================================================================================================\n",
      "Test sentance:  27\n",
      "sentance:  where are you taking me\n",
      "origianl translate: तू मला कुठे घेऊन चाललायस\n",
      "predicted Translate:  ते त्यांना सर्वकाही मेरीचा नाव\n",
      "====================================================================================================\n",
      "Test sentance:  28\n",
      "sentance:  tom said he did that in\n",
      "origianl translate: टॉम म्हणतो की त्याने ते  मध्ये केलं\n",
      "predicted Translate:  टॉमला हे म्हणून हवं आहे\n",
      "====================================================================================================\n",
      "Test sentance:  29\n",
      "sentance:  theyre strong\n",
      "origianl translate: ते मजबूत आहेत\n",
      "predicted Translate:  तुझ्या\n",
      "====================================================================================================\n",
      "Test sentance:  30\n",
      "sentance:  try to explain\n",
      "origianl translate: समजावायचा प्रयत्न करा\n",
      "predicted Translate:  ती तुझ्या झालं आहे का\n",
      "====================================================================================================\n",
      "Test sentance:  31\n",
      "sentance:  tom is a farmer\n",
      "origianl translate: टॉम शेतकरी आहे\n",
      "predicted Translate:  टॉम एक आहे\n",
      "====================================================================================================\n",
      "Test sentance:  32\n",
      "sentance:  why is tom still in boston\n",
      "origianl translate: टॉम अजूनही बॉस्टनमध्ये का आहे\n",
      "predicted Translate:  टॉम बाहेर का आहे का\n",
      "====================================================================================================\n",
      "Test sentance:  33\n",
      "sentance:  i dont eat cheese\n",
      "origianl translate: मी चीझ खात नाही\n",
      "predicted Translate:  मी मेरी नाही\n",
      "====================================================================================================\n",
      "Test sentance:  34\n",
      "sentance:  stop the car\n",
      "origianl translate: गाडी थांबवा\n",
      "predicted Translate:  घरी हा टेनिस\n",
      "====================================================================================================\n",
      "Test sentance:  35\n",
      "sentance:  were all going\n",
      "origianl translate: आम्ही सर्व चाललोय\n",
      "predicted Translate:  आम्ही उद्या करत\n",
      "====================================================================================================\n",
      "Test sentance:  36\n",
      "sentance:  tom sold three refrigerators today\n",
      "origianl translate: टॉमने आज तीन फ्रिज विकले\n",
      "predicted Translate:  टॉमने बंद फोन तू खरं\n",
      "====================================================================================================\n",
      "Test sentance:  37\n",
      "sentance:  i know what tom was trying to do\n",
      "origianl translate: टॉम काय करायचा प्रयत्न करत होता हे मला माहीत आहे\n",
      "predicted Translate:  टॉमने नाहीये हवा कॉफी हे मला माहीत त्याला\n",
      "====================================================================================================\n",
      "Test sentance:  38\n",
      "sentance:  they all talked\n",
      "origianl translate: ते सर्व बोलले\n"
     ]
    },
    {
     "name": "stdout",
     "output_type": "stream",
     "text": [
      "predicted Translate:  उद्या कोणीही त्याची तर\n",
      "====================================================================================================\n",
      "Test sentance:  39\n",
      "sentance:  she became a police officer\n",
      "origianl translate: त्या पोलीस ऑफिसर बनल्या\n",
      "predicted Translate:  अभ्यास एक सापडलं खूष अजूनही आहे\n",
      "====================================================================================================\n",
      "Test sentance:  40\n",
      "sentance:  bring wine\n",
      "origianl translate: वाईन आणा\n",
      "predicted Translate:  खरं का\n",
      "====================================================================================================\n",
      "Test sentance:  41\n",
      "sentance:  tom is looking for something\n",
      "origianl translate: टॉम काहीतरी शोधतोय\n",
      "predicted Translate:  टॉम तिने द्या चालू\n",
      "====================================================================================================\n",
      "Test sentance:  42\n",
      "sentance:  we were happy then\n",
      "origianl translate: तेव्हा आम्ही खुश होतो\n",
      "predicted Translate:  आम्ही साफ कॅनेडियन\n",
      "====================================================================================================\n",
      "Test sentance:  43\n",
      "sentance:  let the boy go\n",
      "origianl translate: मुलाला सोड\n",
      "predicted Translate:  त्यांना ट्रेन काहीतरी\n",
      "====================================================================================================\n",
      "Test sentance:  44\n",
      "sentance:  id be surprised if tom doesnt win\n",
      "origianl translate: टॉम जिंकला नाही तर मला आश्चर्य होईल\n",
      "predicted Translate:  टॉमला हात हवी जन्म रंग अमेरिकन माझ्यासाठी\n",
      "====================================================================================================\n",
      "Test sentance:  45\n",
      "sentance:  youre making a big mistake\n",
      "origianl translate: तू एक मोठी चूक करतोयस\n",
      "predicted Translate:  जेवण केस केस कोणता जाते\n",
      "====================================================================================================\n",
      "Test sentance:  46\n",
      "sentance:  we still want to help you\n",
      "origianl translate: आम्ही अजूनही तुमची मदत करू इच्छितो\n",
      "predicted Translate:  आम्ही तुला आपल्याला माझं पुस्तकं\n",
      "====================================================================================================\n",
      "Test sentance:  47\n",
      "sentance:  basho was the greatest poet\n",
      "origianl translate: बाशो सर्वोत्तम कवी होते\n",
      "predicted Translate:  गाडी करू पार्टी माहीत आहे\n",
      "====================================================================================================\n",
      "Test sentance:  48\n",
      "sentance:  he plays soccer\n",
      "origianl translate: तो फुटबॉल खेळतो\n",
      "predicted Translate:  किती आपले मला माहीत वेळ आहे\n",
      "====================================================================================================\n",
      "Test sentance:  49\n",
      "sentance:  he was unwilling to go\n",
      "origianl translate: तो जायला तयार नव्हता\n",
      "predicted Translate:  हे त्यांना हो खरच\n",
      "====================================================================================================\n",
      "Test sentance:  50\n",
      "sentance:  where did you learn that\n",
      "origianl translate: ते तू कुठे शिकलास\n",
      "predicted Translate:  होतं तुला तू देऊ हवं\n",
      "====================================================================================================\n",
      "Test sentance:  51\n",
      "sentance:  lets meet at\n",
      "origianl translate: ला भेटूया\n",
      "predicted Translate:  मी बोलू स्वतःहून\n",
      "====================================================================================================\n",
      "Test sentance:  52\n",
      "sentance:  let them do their job\n",
      "origianl translate: त्यांना त्यांचं काम करू दे\n",
      "predicted Translate:  तू मोठा सकाळी गेला का\n",
      "====================================================================================================\n",
      "Test sentance:  53\n",
      "sentance:  he is afraid of the dog\n",
      "origianl translate: ते त्या कुत्र्याला घाबरतात\n",
      "predicted Translate:  किती फुटबॉल आहे\n",
      "====================================================================================================\n",
      "Test sentance:  54\n",
      "sentance:  i want to see tom first\n",
      "origianl translate: मला आधी टॉमला बघायचं आहे\n",
      "predicted Translate:  मी टॉमला बोलत पुस्तकं\n",
      "====================================================================================================\n",
      "Test sentance:  55\n",
      "sentance:  i dont even know where to start looking\n",
      "origianl translate: शोधायला सुरुवात कुठे करायची हेही कळत नाहीये\n",
      "predicted Translate:  मी होतं बनायचं होतं असते नाही\n",
      "====================================================================================================\n",
      "Test sentance:  56\n",
      "sentance:  your wifes on the phone\n",
      "origianl translate: फोनवर तुझी बायको आहे\n",
      "predicted Translate:  कोण पुढच्या दिला टॉमचं\n",
      "====================================================================================================\n",
      "Test sentance:  57\n",
      "sentance:  who was playing\n",
      "origianl translate: कोण खेळत होतं\n",
      "predicted Translate:  नका नका त्यांनी\n",
      "====================================================================================================\n",
      "Test sentance:  58\n",
      "sentance:  i usually get up at seven\n",
      "origianl translate: मी शक्यतो सात वाजता उठते\n",
      "predicted Translate:  मी होती ओळखतो होती ओळखतो घरी केली\n",
      "====================================================================================================\n",
      "Test sentance:  59\n",
      "sentance:  he picked up a stone\n",
      "origianl translate: त्यांनी एक दगड उचलला\n",
      "predicted Translate:  हे पुस्तक ही मदत आहेत\n",
      "====================================================================================================\n",
      "Test sentance:  60\n",
      "sentance:  do this work by tomorrow if possible\n",
      "origianl translate: हे काम होऊ शकेल तर उद्यापर्यंत कर\n",
      "predicted Translate:  होतं सुरुवात ते ओळखत सर्व आहेत का\n",
      "====================================================================================================\n",
      "Test sentance:  61\n",
      "sentance:  learn something new every day\n",
      "origianl translate: दररोज काहीतरी नवीन शिका\n",
      "predicted Translate:  आम्ही होते मदत खाली पाऊस\n",
      "====================================================================================================\n",
      "Test sentance:  62\n",
      "sentance:  technology is always changing\n",
      "origianl translate: तंत्रज्ञान नेहमीच बदलत असतं\n",
      "predicted Translate:  तू गर्लफ्रेंड तुम्हाला कर\n",
      "====================================================================================================\n",
      "Test sentance:  63\n",
      "sentance:  the boy began to cry\n",
      "origianl translate: तो मुलगा रडायला लागला\n",
      "predicted Translate:  मला आवाज गाडीत\n",
      "====================================================================================================\n",
      "Test sentance:  64\n",
      "sentance:  he caught three fish\n",
      "origianl translate: त्यांनी तीन मासे पकडले\n",
      "predicted Translate:  या जात पिक्चर\n",
      "====================================================================================================\n",
      "Test sentance:  65\n",
      "sentance:  tom didnt tell mary his real name\n",
      "origianl translate: टॉमने मेरीला त्याचं खरं नाव सांगितलं नाही\n",
      "predicted Translate:  टॉम अजून मांजरी मित्र पाहिला सांगितलं\n",
      "====================================================================================================\n",
      "Test sentance:  66\n",
      "sentance:  i have two cats\n",
      "origianl translate: माझ्याकडे दोन मांजरी आहेत\n",
      "predicted Translate:  मी तुमचा बर्यापैकी उद्या आपल्या\n",
      "====================================================================================================\n",
      "Test sentance:  67\n",
      "sentance:  thats my fathers house\n",
      "origianl translate: ते माझ्या वडिलांचं घर आहे\n",
      "predicted Translate:  मी तिने पाच आता आहेत\n",
      "====================================================================================================\n",
      "Test sentance:  68\n",
      "sentance:  how large are they\n",
      "origianl translate: किती मोठे आहेत ते\n",
      "predicted Translate:  करते टॉमकडे जरा आहे\n",
      "====================================================================================================\n",
      "Test sentance:  69\n",
      "sentance:  it isnt there\n",
      "origianl translate: नाहीये\n",
      "predicted Translate:  तू काय\n",
      "====================================================================================================\n",
      "Test sentance:  70\n",
      "sentance:  can you sing\n",
      "origianl translate: तुम्हाला गाता येतं का\n",
      "predicted Translate:  ते आधीच माझ्या खाणं\n",
      "====================================================================================================\n",
      "Test sentance:  71\n",
      "sentance:  theyre unconscious\n",
      "origianl translate: त्या बेशुद्ध आहेत\n",
      "predicted Translate:  तुझ्या\n",
      "====================================================================================================\n",
      "Test sentance:  72\n",
      "sentance:  dont stop him\n",
      "origianl translate: त्यांना थांबवू नका\n",
      "predicted Translate:  कुठे टॉमवर नव्हता जिंकू\n",
      "====================================================================================================\n",
      "Test sentance:  73\n",
      "sentance:  just work hard\n",
      "origianl translate: फक्त मेहनतीने काम कर\n",
      "predicted Translate:  त्याची कर भरपूर बनायचं तिथेच\n",
      "====================================================================================================\n",
      "Test sentance:  74\n",
      "sentance:  you were mine\n",
      "origianl translate: तू माझा होतास\n",
      "predicted Translate:  ते कधी पुस्तकं\n",
      "====================================================================================================\n",
      "Test sentance:  75\n",
      "sentance:  are you going to ask me or not\n",
      "origianl translate: मला विचारणार आहेस की नाही\n",
      "predicted Translate:  तुम्ही माझी मुलं बर्यापैकी आहे का\n",
      "====================================================================================================\n",
      "Test sentance:  76\n",
      "sentance:  copy this file\n",
      "origianl translate: ही फाइल कॉपी करा\n",
      "predicted Translate:  तू त्याने आहेत\n",
      "====================================================================================================\n",
      "Test sentance:  77\n",
      "sentance:  did you write your name\n",
      "origianl translate: तुम्ही आपलं नाव लिहिलंत का\n",
      "predicted Translate:  तुला होते अतिशय का नाही\n",
      "====================================================================================================\n",
      "Test sentance:  78\n",
      "sentance:  im looking for my key\n",
      "origianl translate: मी माझी चावी शोधतोय\n",
      "predicted Translate:  मी हे पुस्तक चालू\n",
      "====================================================================================================\n",
      "Test sentance:  79\n",
      "sentance:  i have to find it\n",
      "origianl translate: मला ते शोधायलाच हवं\n",
      "predicted Translate:  मी करताहेत फ्रेंचमध्ये\n",
      "====================================================================================================\n",
      "Test sentance:  80\n",
      "sentance:  he will play soccer tomorrow\n",
      "origianl translate: तो उद्या फुटबॉल खेळेल\n",
      "predicted Translate:  किती इंग्रजी म्हणतो काय\n",
      "====================================================================================================\n",
      "Test sentance:  81\n"
     ]
    },
    {
     "name": "stdout",
     "output_type": "stream",
     "text": [
      "sentance:  tom was a manager\n",
      "origianl translate: टॉम मॅनेजर होता\n",
      "predicted Translate:  टॉम टॉमकडे तिने आवडला\n",
      "====================================================================================================\n",
      "Test sentance:  82\n",
      "sentance:  lets get married\n",
      "origianl translate: लग्न करूया\n",
      "predicted Translate:  होती बंदूक आवडते\n",
      "====================================================================================================\n",
      "Test sentance:  83\n",
      "sentance:  he does not take care of his children\n",
      "origianl translate: तो आपल्या मुलांची काळजी घेत नाही\n",
      "predicted Translate:  हे आवडत हे नाहीत इंग्रजी माझ्या मला नाहीयेस नाही\n",
      "====================================================================================================\n",
      "Test sentance:  84\n",
      "sentance:  tom hid the truth from mary\n",
      "origianl translate: टॉमने सत्य मेरीपासून लपवलं\n",
      "predicted Translate:  टॉमला कठीण दे होता\n",
      "====================================================================================================\n",
      "Test sentance:  85\n",
      "sentance:  the price of eggs is going up\n",
      "origianl translate: अंडींचा भाव वाढतोय\n",
      "predicted Translate:  मदत टॉमकडे गेलं बंदूक एकमात्र का\n",
      "====================================================================================================\n",
      "Test sentance:  86\n",
      "sentance:  i want to go talk to tom\n",
      "origianl translate: मला जाऊन टॉमशी बोलायचं आहे\n",
      "predicted Translate:  मी टॉमला हो अतिशय आता नकोस\n",
      "====================================================================================================\n",
      "Test sentance:  87\n",
      "sentance:  i want to talk to your manager\n",
      "origianl translate: मला तुझ्या मॅनेजरशी बोलायचं आहे\n",
      "predicted Translate:  मी असं साफ काहीच खाणं नकोस\n",
      "====================================================================================================\n",
      "Test sentance:  88\n",
      "sentance:  is this book toms\n",
      "origianl translate: हे पुस्तक टॉमचं आहे का\n",
      "predicted Translate:  तो त्याच्या आहे का\n",
      "====================================================================================================\n",
      "Test sentance:  89\n",
      "sentance:  did you read this\n",
      "origianl translate: तू हे वाचलंस\n",
      "predicted Translate:  तुला देऊ ही मांजर का\n",
      "====================================================================================================\n",
      "Test sentance:  90\n",
      "sentance:  i read this book last night\n",
      "origianl translate: हे पुस्तक मी काल रात्री वाचलं\n",
      "predicted Translate:  मी केलं होतो मांजर खूपच आहे\n",
      "====================================================================================================\n",
      "Test sentance:  91\n",
      "sentance:  i need treatment\n",
      "origianl translate: मला उपचाराची गरज आहे\n",
      "predicted Translate:  मी पाच खिडकी\n",
      "====================================================================================================\n",
      "Test sentance:  92\n",
      "sentance:  no one stops to listen to him\n",
      "origianl translate: कोणीही त्याचं ऐकायला थांबत नाही\n",
      "predicted Translate:  आम्ही तिथे आवडली करत\n",
      "====================================================================================================\n",
      "Test sentance:  93\n",
      "sentance:  she was poor but she was honest\n",
      "origianl translate: ती गरीब होती पण प्रामाणिक होती\n",
      "predicted Translate:  ती त्या पर्याय पर्याय आता वाढदिवस\n",
      "====================================================================================================\n",
      "Test sentance:  94\n",
      "sentance:  this book sold well in japan\n",
      "origianl translate: हे पुस्तक जपानमध्ये बर्यापैकी विकलं गेलं\n",
      "predicted Translate:  आज बोलत यायला सगळी एक केलास करेल\n",
      "====================================================================================================\n",
      "Test sentance:  95\n",
      "sentance:  tom and mary werent speaking french\n",
      "origianl translate: टॉम आणि मेरी फ्रेंचमध्ये बोलत नव्हते\n",
      "predicted Translate:  टॉम भरपूर माझ्याकडे काल घरी केली\n",
      "====================================================================================================\n",
      "Test sentance:  96\n",
      "sentance:  the american flag has fifty stars\n",
      "origianl translate: अमेरिकन झेंड्यात पन्नास तारे आहेत\n",
      "predicted Translate:  खरं नाव\n",
      "====================================================================================================\n",
      "Test sentance:  97\n",
      "sentance:  thats why i went to boston\n",
      "origianl translate: म्हणून मी बॉस्टनला गेलो\n",
      "predicted Translate:  ते नाहीये पुन्हा झाली नाही\n",
      "====================================================================================================\n",
      "Test sentance:  98\n",
      "sentance:  how old is your refrigerator\n",
      "origianl translate: तुझा फ्रिज किती जुना आहे\n",
      "predicted Translate:  नव्हतं ना\n",
      "====================================================================================================\n",
      "Test sentance:  99\n",
      "sentance:  latin is a dead language\n",
      "origianl translate: लॅटीन ही एक मृत भाषा आहे\n",
      "predicted Translate:  एक करा बोलता\n",
      "====================================================================================================\n",
      "Test sentance:  100\n",
      "sentance:  that makes no difference\n",
      "origianl translate: त्याने काही फरक पडत नाही\n",
      "predicted Translate:  आज तसं हा\n",
      "====================================================================================================\n"
     ]
    }
   ],
   "source": [
    "for i in range(100):\n",
    "  sentance = X_test[i]\n",
    "  original_target = y_test[i]\n",
    "  input_seq = tokenizer_input.texts_to_sequences([sentance])\n",
    "  pad_sequence = pad_sequences(input_seq, maxlen= 30, padding='post')\n",
    "  # print('input_sequence =>',input_seq)\n",
    "  # print(\"pad_seq=>\",pad_sequence)\n",
    "  predicted_target = decode_seq(pad_sequence)\n",
    "  print(\"Test sentance: \",i+1)\n",
    "  print(\"sentance: \",sentance)\n",
    "  print(\"origianl translate:\",original_target[6:-4])\n",
    "  print(\"predicted Translate:\",predicted_target[:-4])\n",
    "  print(\"==\"*50)\n"
   ]
  }
 ],
 "metadata": {
  "accelerator": "GPU",
  "colab": {
   "authorship_tag": "ABX9TyPSXwH/gQgxPd4dz1iQZvKT",
   "collapsed_sections": [],
   "machine_shape": "hm",
   "mount_file_id": "1LCNMVbY7XCqDmrau3uaaecNjWItTX-XC",
   "name": "english-marathi-translation.ipynb",
   "provenance": [],
   "toc_visible": true
  },
  "kernelspec": {
   "display_name": "Python 3",
   "language": "python",
   "name": "python3"
  },
  "language_info": {
   "codemirror_mode": {
    "name": "ipython",
    "version": 3
   },
   "file_extension": ".py",
   "mimetype": "text/x-python",
   "name": "python",
   "nbconvert_exporter": "python",
   "pygments_lexer": "ipython3",
   "version": "3.7.3"
  }
 },
 "nbformat": 4,
 "nbformat_minor": 4
}
